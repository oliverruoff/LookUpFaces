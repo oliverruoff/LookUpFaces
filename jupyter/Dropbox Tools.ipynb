{
 "cells": [
  {
   "cell_type": "code",
   "execution_count": 5,
   "metadata": {},
   "outputs": [
    {
     "data": {
      "text/plain": [
       "True"
      ]
     },
     "execution_count": 5,
     "metadata": {},
     "output_type": "execute_result"
    }
   ],
   "source": [
    "import os\n",
    "\n",
    "import dropbox\n",
    "from dotenv import load_dotenv\n",
    "\n",
    "load_dotenv()"
   ]
  },
  {
   "cell_type": "code",
   "execution_count": 9,
   "metadata": {},
   "outputs": [],
   "source": [
    "DROPBOX_TOKEN = os.getenv('DROPBOX_TOKEN')\n",
    "\n",
    "dbx = dropbox.Dropbox(DROPBOX_TOKEN)"
   ]
  },
  {
   "cell_type": "code",
   "execution_count": 19,
   "metadata": {},
   "outputs": [
    {
     "name": "stdout",
     "output_type": "stream",
     "text": [
      "i 0\n",
      "i 1\n",
      "i 2\n",
      "i 3\n",
      "i 4\n",
      "i 5\n",
      "i 6\n",
      "i 7\n",
      "i 8\n",
      "i 9\n"
     ]
    }
   ],
   "source": [
    "response = dbx.files_list_folder(\"\", recursive=True)\n",
    "entries = response.entries\n",
    "i = 0 # TODO: Remove\n",
    "while response.has_more:\n",
    "    if i < 10:#TODO: Remove\n",
    "        print('i', i)#TODO: Remove\n",
    "        i +=1 #TODO: Remove\n",
    "        response = dbx.files_list_folder_continue(response.cursor)\n",
    "        entries += response.entries\n",
    "    else:#TODO: Remove\n",
    "        break#TODO: Remove"
   ]
  },
  {
   "cell_type": "code",
   "execution_count": 32,
   "metadata": {},
   "outputs": [],
   "source": [
    "image_formats = ['jpg', 'jpeg', 'png', 'mp4', 'avi']\n",
    "image_formats += [img_format.upper() for img_format in image_formats]\n",
    "\n",
    "images = [file for file in entries if any([file.name.endswith(ending) for ending in image_formats])]"
   ]
  },
  {
   "cell_type": "code",
   "execution_count": 41,
   "metadata": {},
   "outputs": [],
   "source": [
    "dates = [img_file.client_modified for img_file in images]\n",
    "years = set([date.year for date in dates])"
   ]
  },
  {
   "cell_type": "code",
   "execution_count": 76,
   "metadata": {},
   "outputs": [],
   "source": [
    "foo = dropbox.files.RelocationPath(from_path=images[200].path_lower, to_path='/DefragBox/2016/06/06.06.2016__'+images[200].name)"
   ]
  },
  {
   "cell_type": "code",
   "execution_count": null,
   "metadata": {},
   "outputs": [],
   "source": []
  },
  {
   "cell_type": "code",
   "execution_count": 79,
   "metadata": {},
   "outputs": [
    {
     "data": {
      "text/plain": [
       "2016"
      ]
     },
     "execution_count": 79,
     "metadata": {},
     "output_type": "execute_result"
    }
   ],
   "source": [
    "images[100].client_modified.year"
   ]
  },
  {
   "cell_type": "code",
   "execution_count": 83,
   "metadata": {},
   "outputs": [
    {
     "data": {
      "text/plain": [
       "'2016/a/123'"
      ]
     },
     "execution_count": 83,
     "metadata": {},
     "output_type": "execute_result"
    }
   ],
   "source": [
    "'/'.join([str(images[200].client_modified.year), 'a', '123'])"
   ]
  },
  {
   "cell_type": "code",
   "execution_count": 86,
   "metadata": {},
   "outputs": [],
   "source": [
    "def get_relocationpath_for_file(file_metadata, to_path_prefix='/DefragBox'):\n",
    "    year = str(file_metadata.client_modified.year)\n",
    "    month = '0' + str(file_metadata.client_modified.month) if len(str(file_metadata.client_modified.month)) == 1 else str(file_metadata.client_modified.month)\n",
    "    day = '0' + str(file_metadata.client_modified.day) if len(str(file_metadata.client_modified.day)) == 1 else str(file_metadata.client_modified.day)\n",
    "    _new_file_name = day + '.' + month + '.' + year + '__' + file_metadata.name\n",
    "    _to_path = '/'.join([to_path_prefix, year, month, day, _new_file_name])\n",
    "\n",
    "    return dropbox.files.RelocationPath(from_path=file_metadata.path_lower, to_path=_to_path)"
   ]
  },
  {
   "cell_type": "code",
   "execution_count": 87,
   "metadata": {},
   "outputs": [
    {
     "data": {
      "text/plain": [
       "RelocationPath(from_path=\"/rip'16/img_8724.jpg\", to_path='/DefragBox/2016/06/06/06.06.2016__IMG_8724.JPG')"
      ]
     },
     "execution_count": 87,
     "metadata": {},
     "output_type": "execute_result"
    }
   ],
   "source": [
    "get_relocationpath_for_file(images[200])"
   ]
  },
  {
   "cell_type": "code",
   "execution_count": 88,
   "metadata": {},
   "outputs": [
    {
     "data": {
      "text/plain": [
       "FileMetadata(name='IMG_8724.JPG', id='id:UrHecJKcSFAAAAAAAAAAAQ', client_modified=datetime.datetime(2016, 6, 6, 12, 41, 25), server_modified=datetime.datetime(2016, 6, 9, 5, 58, 8), rev='292497618bb', size=2174360, path_lower=\"/rip'16/img_8724.jpg\", path_display=\"/RiP'16/IMG_8724.JPG\", parent_shared_folder_id='1232476347', media_info=None, symlink_info=None, sharing_info=FileSharingInfo(read_only=False, parent_shared_folder_id='1232476347', modified_by='dbid:AABTVrpuwro_HoHeDo-zKaP7Ya_FK1_CtmQ'), is_downloadable=True, export_info=None, property_groups=None, has_explicit_shared_members=None, content_hash='31162dafe92d756b9a6b22c62b535f4b7c89e0ecf4a8ded21d29830d0db038ab', file_lock_info=None)"
      ]
     },
     "execution_count": 88,
     "metadata": {},
     "output_type": "execute_result"
    }
   ],
   "source": [
    "images[200]"
   ]
  },
  {
   "cell_type": "code",
   "execution_count": null,
   "metadata": {},
   "outputs": [],
   "source": [
    "dropbox.Fi"
   ]
  }
 ],
 "metadata": {
  "kernelspec": {
   "display_name": "Python 3",
   "language": "python",
   "name": "python3"
  },
  "language_info": {
   "codemirror_mode": {
    "name": "ipython",
    "version": 3
   },
   "file_extension": ".py",
   "mimetype": "text/x-python",
   "name": "python",
   "nbconvert_exporter": "python",
   "pygments_lexer": "ipython3",
   "version": "3.8.3"
  }
 },
 "nbformat": 4,
 "nbformat_minor": 4
}
